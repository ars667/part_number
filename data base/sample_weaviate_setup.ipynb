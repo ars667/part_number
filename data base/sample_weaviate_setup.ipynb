{
 "cells": [
  {
   "cell_type": "code",
   "execution_count": null,
   "id": "668a8ad3-2aa6-4b52-a4c2-91cf9d6b0999",
   "metadata": {
    "scrolled": true
   },
   "outputs": [
    {
     "name": "stdout",
     "output_type": "stream",
     "text": [
      "Defaulting to user installation because normal site-packages is not writeable\n",
      "Requirement already satisfied: weaviate-client in /home/ars667/.local/lib/python3.10/site-packages (4.11.0)\n",
      "Requirement already satisfied: httpx<0.29.0,>=0.26.0 in /home/ars667/.local/lib/python3.10/site-packages (from weaviate-client) (0.28.1)\n",
      "Requirement already satisfied: validators==0.34.0 in /home/ars667/.local/lib/python3.10/site-packages (from weaviate-client) (0.34.0)\n",
      "Requirement already satisfied: authlib<1.3.2,>=1.2.1 in /home/ars667/.local/lib/python3.10/site-packages (from weaviate-client) (1.3.1)\n",
      "Requirement already satisfied: pydantic<3.0.0,>=2.8.0 in /home/ars667/.local/lib/python3.10/site-packages (from weaviate-client) (2.10.6)\n",
      "Requirement already satisfied: grpcio<2.0.0,>=1.66.2 in /home/ars667/.local/lib/python3.10/site-packages (from weaviate-client) (1.70.0)\n",
      "Requirement already satisfied: grpcio-tools<2.0.0,>=1.66.2 in /home/ars667/.local/lib/python3.10/site-packages (from weaviate-client) (1.70.0)\n",
      "Requirement already satisfied: grpcio-health-checking<2.0.0,>=1.66.2 in /home/ars667/.local/lib/python3.10/site-packages (from weaviate-client) (1.70.0)\n",
      "Requirement already satisfied: cryptography in /usr/lib/python3/dist-packages (from authlib<1.3.2,>=1.2.1->weaviate-client) (3.4.8)\n",
      "Requirement already satisfied: protobuf<6.0dev,>=5.26.1 in /home/ars667/.local/lib/python3.10/site-packages (from grpcio-health-checking<2.0.0,>=1.66.2->weaviate-client) (5.29.3)\n",
      "Requirement already satisfied: setuptools in /usr/lib/python3/dist-packages (from grpcio-tools<2.0.0,>=1.66.2->weaviate-client) (59.6.0)\n",
      "Requirement already satisfied: anyio in /home/ars667/.local/lib/python3.10/site-packages (from httpx<0.29.0,>=0.26.0->weaviate-client) (4.8.0)\n",
      "Requirement already satisfied: certifi in /home/ars667/.local/lib/python3.10/site-packages (from httpx<0.29.0,>=0.26.0->weaviate-client) (2025.1.31)\n",
      "Requirement already satisfied: httpcore==1.* in /home/ars667/.local/lib/python3.10/site-packages (from httpx<0.29.0,>=0.26.0->weaviate-client) (1.0.7)\n",
      "Requirement already satisfied: idna in /home/ars667/.local/lib/python3.10/site-packages (from httpx<0.29.0,>=0.26.0->weaviate-client) (3.10)\n",
      "Requirement already satisfied: h11<0.15,>=0.13 in /home/ars667/.local/lib/python3.10/site-packages (from httpcore==1.*->httpx<0.29.0,>=0.26.0->weaviate-client) (0.14.0)\n",
      "Requirement already satisfied: annotated-types>=0.6.0 in /home/ars667/.local/lib/python3.10/site-packages (from pydantic<3.0.0,>=2.8.0->weaviate-client) (0.7.0)\n",
      "Requirement already satisfied: pydantic-core==2.27.2 in /home/ars667/.local/lib/python3.10/site-packages (from pydantic<3.0.0,>=2.8.0->weaviate-client) (2.27.2)\n",
      "Requirement already satisfied: typing-extensions>=4.12.2 in /home/ars667/.local/lib/python3.10/site-packages (from pydantic<3.0.0,>=2.8.0->weaviate-client) (4.12.2)\n",
      "Requirement already satisfied: exceptiongroup>=1.0.2 in /home/ars667/.local/lib/python3.10/site-packages (from anyio->httpx<0.29.0,>=0.26.0->weaviate-client) (1.2.2)\n",
      "Requirement already satisfied: sniffio>=1.1 in /home/ars667/.local/lib/python3.10/site-packages (from anyio->httpx<0.29.0,>=0.26.0->weaviate-client) (1.3.1)\n",
      "Note: you may need to restart the kernel to use updated packages.\n"
     ]
    }
   ],
   "source": [
    "pip install -U  -client"
   ]
  },
  {
   "cell_type": "code",
   "execution_count": 4,
   "id": "e3da9543-78be-4db2-b9b2-60aad7043a22",
   "metadata": {},
   "outputs": [
    {
     "name": "stdout",
     "output_type": "stream",
     "text": [
      "True\n"
     ]
    }
   ],
   "source": [
    "import weaviate\n",
    "\n",
    "client = weaviate.connect_to_local()\n",
    "\n",
    "print(client.is_ready())  # Should print: `True`\n",
    "\n",
    "client.close()  # Free up resources"
   ]
  },
  {
   "cell_type": "code",
   "execution_count": 6,
   "id": "034ad81f-beb9-4b77-b84e-4d900f6d37dc",
   "metadata": {},
   "outputs": [],
   "source": [
    "import weaviate\n",
    "from weaviate.classes.config import Configure\n",
    "\n",
    "client = weaviate.connect_to_local()\n",
    "\n",
    "questions = client.collections.create(\n",
    "    name=\"Questions\",\n",
    "    vectorizer_config=Configure.Vectorizer.text2vec_ollama(     # Configure the Ollama embedding integration\n",
    "        api_endpoint=\"http://host.docker.internal:11434\",       # Allow Weaviate from within a Docker container to contact your Ollama instance\n",
    "        model=\"nomic-embed-text\",                               # The model to use\n",
    "    ),\n",
    "    generative_config=Configure.Generative.ollama(              # Configure the Ollama generative integration\n",
    "        api_endpoint=\"http://host.docker.internal:11434\",       # Allow Weaviate from within a Docker container to contact your Ollama instance\n",
    "        model=\"llama3.2\",                                       # The model to use\n",
    "    )\n",
    ")\n",
    "\n",
    "client.close()  # Free up resources"
   ]
  },
  {
   "cell_type": "code",
   "execution_count": 7,
   "id": "20df4d27-1230-43fe-a432-fcd8c8bca7df",
   "metadata": {},
   "outputs": [
    {
     "name": "stdout",
     "output_type": "stream",
     "text": [
      "Number of failed imports: 10\n",
      "First failed object: ErrorObject(message='WeaviateInsertManyAllFailedError(\\'Every object failed during insertion. Here is the set of all errors: send POST request: Post \"http://host.docker.internal:11434/api/embed\": dial tcp: lookup host.docker.internal on 127.0.0.11:53: no such host\\')', object_=BatchObject(collection='Question', properties={'answer': 'Liver', 'question': 'This organ removes excess glucose from the blood & stores it as glycogen', 'category': 'SCIENCE'}, references=None, uuid='5f0f2c10-dcda-40c9-8ffc-2628096c35da', vector=None, tenant=None, index=0, retry_count=0), original_uuid=None)\n"
     ]
    }
   ],
   "source": [
    "import weaviate\n",
    "import requests, json\n",
    "\n",
    "client = weaviate.connect_to_local()\n",
    "\n",
    "resp = requests.get(\n",
    "    \"https://raw.githubusercontent.com/weaviate-tutorials/quickstart/main/data/jeopardy_tiny.json\"\n",
    ")\n",
    "data = json.loads(resp.text)\n",
    "\n",
    "questions = client.collections.get(\"Question\")\n",
    "\n",
    "with questions.batch.dynamic() as batch:\n",
    "    for d in data:\n",
    "        batch.add_object({\n",
    "            \"answer\": d[\"Answer\"],\n",
    "            \"question\": d[\"Question\"],\n",
    "            \"category\": d[\"Category\"],\n",
    "        })\n",
    "        if batch.number_errors > 10:\n",
    "            print(\"Batch import stopped due to excessive errors.\")\n",
    "            break\n",
    "\n",
    "failed_objects = questions.batch.failed_objects\n",
    "if failed_objects:\n",
    "    print(f\"Number of failed imports: {len(failed_objects)}\")\n",
    "    print(f\"First failed object: {failed_objects[0]}\")\n",
    "\n",
    "client.close()  # Free up resources"
   ]
  },
  {
   "cell_type": "code",
   "execution_count": null,
   "id": "581b3238-0257-4a56-9bad-fd83d25cdd67",
   "metadata": {},
   "outputs": [],
   "source": []
  }
 ],
 "metadata": {
  "kernelspec": {
   "display_name": "Python 3 (ipykernel)",
   "language": "python",
   "name": "python3"
  },
  "language_info": {
   "codemirror_mode": {
    "name": "ipython",
    "version": 3
   },
   "file_extension": ".py",
   "mimetype": "text/x-python",
   "name": "python",
   "nbconvert_exporter": "python",
   "pygments_lexer": "ipython3",
   "version": "3.10.12"
  }
 },
 "nbformat": 4,
 "nbformat_minor": 5
}
